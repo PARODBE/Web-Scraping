{
 "cells": [
  {
   "cell_type": "code",
   "execution_count": 1,
   "metadata": {},
   "outputs": [],
   "source": [
    "import requests\n",
    "from bs4 import BeautifulSoup"
   ]
  },
  {
   "cell_type": "code",
   "execution_count": 2,
   "metadata": {},
   "outputs": [],
   "source": [
    "url = 'https://en.wikipedia.org/wiki/List_of_Game_of_Thrones_episodes'"
   ]
  },
  {
   "cell_type": "markdown",
   "metadata": {
    "collapsed": true
   },
   "source": [
    "Primer paso: inspecciona en tu navegador el link:\n",
    "\n",
    "https://en.wikipedia.org/wiki/List_of_Game_of_Thrones_episodes"
   ]
  },
  {
   "cell_type": "code",
   "execution_count": 3,
   "metadata": {},
   "outputs": [],
   "source": [
    "r = requests.get(url)"
   ]
  },
  {
   "cell_type": "code",
   "execution_count": 4,
   "metadata": {},
   "outputs": [
    {
     "name": "stdout",
     "output_type": "stream",
     "text": [
      "\n",
      "<!DOCTYPE html>\n",
      "<html class=\"client-nojs\" lang=\"en\" dir=\"ltr\">\n",
      "<head>\n",
      "<meta charset=\"UTF-8\"/>\n",
      "<title>List of Game of Thrones episodes - Wikipedia</title>\n",
      "<script>document.documentElement.className=\"client-js\";RLCONF={\"wgBreakFrames\":!1,\"wgSeparatorTransformTable\":[\"\",\"\"],\"wgDigitTransformTable\":[\"\",\"\"],\"wgDefaultDateFormat\":\"dmy\",\"wgMonthNames\":[\"\",\"January\",\"February\",\"March\",\"April\",\"May\",\"June\",\"July\",\"August\",\"September\",\"October\",\"November\",\"December\"],\"wgRequestId\":\"ee9bf5ec-1bd2-423d-806\n"
     ]
    }
   ],
   "source": [
    "print(r.text[:500])"
   ]
  },
  {
   "cell_type": "code",
   "execution_count": 5,
   "metadata": {},
   "outputs": [],
   "source": [
    "html_contents = r.text"
   ]
  },
  {
   "cell_type": "code",
   "execution_count": 6,
   "metadata": {},
   "outputs": [],
   "source": [
    "html_soup = BeautifulSoup(html_contents, 'lxml') # html.parser"
   ]
  },
  {
   "cell_type": "markdown",
   "metadata": {},
   "source": [
    "Algunas cosillas más ..."
   ]
  },
  {
   "cell_type": "code",
   "execution_count": 7,
   "metadata": {},
   "outputs": [
    {
     "name": "stdout",
     "output_type": "stream",
     "text": [
      "<h1 class=\"firstHeading\" id=\"firstHeading\" lang=\"en\">List of <i>Game of Thrones</i> episodes</h1>\n"
     ]
    }
   ],
   "source": [
    "first_h1 = html_soup.find(\"h1\")\n",
    "print(first_h1)"
   ]
  },
  {
   "cell_type": "code",
   "execution_count": 8,
   "metadata": {},
   "outputs": [
    {
     "name": "stdout",
     "output_type": "stream",
     "text": [
      "List of Game of Thrones episodes\n",
      "List of Game of Thrones episodes\n"
     ]
    }
   ],
   "source": [
    "print(first_h1.text)\n",
    "print(first_h1.get_text()) # hace lo mismo"
   ]
  },
  {
   "cell_type": "code",
   "execution_count": 9,
   "metadata": {},
   "outputs": [
    {
     "name": "stdout",
     "output_type": "stream",
     "text": [
      "{'id': 'firstHeading', 'class': ['firstHeading'], 'lang': 'en'}\n",
      "firstHeading\n",
      "firstHeading\n",
      "firstHeading\n"
     ]
    }
   ],
   "source": [
    "print(first_h1.attrs)\n",
    "print(first_h1.attrs['id'])\n",
    "print(first_h1['id']) # hace lo mismo\n",
    "print(first_h1.get('id')) # hace lo mismo"
   ]
  },
  {
   "cell_type": "markdown",
   "metadata": {},
   "source": [
    "Ahora saca la lista de los diferentes \"seasons\". En este caso, debería dar algo como:\n",
    "\n",
    "\n",
    "['2.1 Season 1 (2011)',\n",
    "\n",
    "'2.2 Season 2 (2012)',\n",
    "\n",
    "'2.3 Season 3 (2013)',\n",
    "\n",
    "'2.4 Season 4 (2014)',\n",
    "\n",
    "'2.5 Season 5 (2015)',\n",
    "\n",
    "'2.6 Season 6 (2016)',\n",
    "\n",
    "'2.7 Season 7 (2017)',\n",
    "\n",
    "'2.8 Season 8']"
   ]
  },
  {
   "cell_type": "code",
   "execution_count": 10,
   "metadata": {},
   "outputs": [
    {
     "data": {
      "text/plain": [
       "['2.1 Season 1 (2011)',\n",
       " '2.2 Season 2 (2012)',\n",
       " '2.3 Season 3 (2013)',\n",
       " '2.4 Season 4 (2014)',\n",
       " '2.5 Season 5 (2015)',\n",
       " '2.6 Season 6 (2016)',\n",
       " '2.7 Season 7 (2017)',\n",
       " '2.8 Season 8 (2019)']"
      ]
     },
     "execution_count": 10,
     "metadata": {},
     "output_type": "execute_result"
    }
   ],
   "source": [
    "# primera forma de hacerlo:\n",
    "\n",
    "[x.text\n",
    " for x in html_soup.find_all(\"li\", class_=\"toclevel-2\")]"
   ]
  },
  {
   "cell_type": "code",
   "execution_count": 11,
   "metadata": {},
   "outputs": [
    {
     "data": {
      "text/plain": [
       "['2.1 Season 1 (2011)',\n",
       " '2.2 Season 2 (2012)',\n",
       " '2.3 Season 3 (2013)',\n",
       " '2.4 Season 4 (2014)',\n",
       " '2.5 Season 5 (2015)',\n",
       " '2.6 Season 6 (2016)',\n",
       " '2.7 Season 7 (2017)',\n",
       " '2.8 Season 8 (2019)']"
      ]
     },
     "execution_count": 11,
     "metadata": {},
     "output_type": "execute_result"
    }
   ],
   "source": [
    "# Segunda forma de hacerlo:\n",
    "\n",
    "aux1 = html_soup.find(\"a\", {\"href\":\"#Episodes\"})\n",
    "aux2 = aux1.find_next_sibling(\"ul\")\n",
    "[x.text for x in aux2.find_all(\"li\")]"
   ]
  },
  {
   "cell_type": "markdown",
   "metadata": {},
   "source": [
    "Ahora selecciona la tabla correspondiente a \"Season 1\" y calcula cuántas filas (tags \"tr\") te salen.\n",
    "Calcula también cuántas celdas (tags \"td\") te salen.\n",
    "\n",
    "¿Te cuadra? ¿por qué? Ayuda: Inspecciona el contenido html página en tu navegador"
   ]
  },
  {
   "cell_type": "code",
   "execution_count": 12,
   "metadata": {},
   "outputs": [
    {
     "data": {
      "text/plain": [
       "(11, 60)"
      ]
     },
     "execution_count": 12,
     "metadata": {},
     "output_type": "execute_result"
    }
   ],
   "source": [
    "table = html_soup.find(\"table\", class_=\"wikiepisodetable\")\n",
    "len(table.find_all(\"tr\")), len(table.find_all(\"td\"))"
   ]
  },
  {
   "cell_type": "code",
   "execution_count": null,
   "metadata": {},
   "outputs": [],
   "source": []
  },
  {
   "cell_type": "markdown",
   "metadata": {},
   "source": [
    "Ahora saca la lista de directores del primer \"episode\":"
   ]
  },
  {
   "cell_type": "code",
   "execution_count": 13,
   "metadata": {},
   "outputs": [
    {
     "data": {
      "text/plain": [
       "['Daniel Minahan', 'Brian Kirk', 'Alan Taylor', 'Tim Van Patten']"
      ]
     },
     "execution_count": 13,
     "metadata": {},
     "output_type": "execute_result"
    }
   ],
   "source": [
    "directores = []\n",
    "filas = table.find_all(\"tr\")[1:]\n",
    "for fila in filas:\n",
    "    directores.append(fila.find_all(\"td\")[2].text)\n",
    "list(set(directores))"
   ]
  },
  {
   "cell_type": "code",
   "execution_count": 14,
   "metadata": {},
   "outputs": [
    {
     "data": {
      "text/plain": [
       "['Daniel Minahan', 'Brian Kirk', 'Alan Taylor', 'Tim Van Patten']"
      ]
     },
     "execution_count": 14,
     "metadata": {},
     "output_type": "execute_result"
    }
   ],
   "source": [
    "# Otra forma (más eficiente porque no extrae todas las celdas\n",
    "# de la fila):\n",
    "\n",
    "directores = []\n",
    "filas = table.find_all(\"tr\")[1:]\n",
    "for fila in filas:\n",
    "    aux1 = fila.find(\"td\") # primera celda td en fila\n",
    "    aux2 = aux1.find_next_sibling(\"td\") # la segunda\n",
    "    aux3 = aux2.find_next_sibling(\"td\") # la tercera\n",
    "    directores.append(aux3.text)\n",
    "list(set(directores))"
   ]
  },
  {
   "cell_type": "markdown",
   "metadata": {},
   "source": [
    "Ahora saca la lista de directores del primer \"episode\" junto a sus enlaces en Wikipedia:"
   ]
  },
  {
   "cell_type": "code",
   "execution_count": 15,
   "metadata": {},
   "outputs": [],
   "source": [
    "def get_domain_name(x):\n",
    "    aux = x.split(\"//\")\n",
    "    aux[-1] = aux[-1].split(\"/\")[0]\n",
    "    return \"//\".join(aux)\n",
    "\n",
    "def completar_link(link, url_pagina_actual):\n",
    "    if link[:4] != 'http':\n",
    "        if link[:2] == '//':\n",
    "            link = 'http:' + link\n",
    "        elif link[0] == '/':\n",
    "            domain_name = get_domain_name(url_pagina_actual)\n",
    "            link = domain_name + link\n",
    "        else:\n",
    "            link = url_pagina_actual + link\n",
    "    return link"
   ]
  },
  {
   "cell_type": "code",
   "execution_count": 16,
   "metadata": {},
   "outputs": [
    {
     "data": {
      "text/plain": [
       "'https://en.wikipedia.org/wiki/Tim_Van_Patten'"
      ]
     },
     "execution_count": 16,
     "metadata": {},
     "output_type": "execute_result"
    }
   ],
   "source": [
    "aux = \"https://en.wikipedia.org/wiki/List_of_Game_of_Thrones_episodes\"\n",
    "completar_link('/wiki/Tim_Van_Patten', aux)"
   ]
  },
  {
   "cell_type": "code",
   "execution_count": null,
   "metadata": {},
   "outputs": [],
   "source": []
  },
  {
   "cell_type": "code",
   "execution_count": null,
   "metadata": {},
   "outputs": [],
   "source": []
  },
  {
   "cell_type": "code",
   "execution_count": 17,
   "metadata": {},
   "outputs": [
    {
     "data": {
      "text/plain": [
       "{'Tim Van Patten': 'https://en.wikipedia.org/wiki/Tim_Van_Patten',\n",
       " 'Brian Kirk': 'https://en.wikipedia.org/wiki/Brian_Kirk',\n",
       " 'Daniel Minahan': 'https://en.wikipedia.org/wiki/Daniel_Minahan',\n",
       " 'Alan Taylor': 'https://en.wikipedia.org/wiki/Alan_Taylor_(director)'}"
      ]
     },
     "execution_count": 17,
     "metadata": {},
     "output_type": "execute_result"
    }
   ],
   "source": [
    "directores = {}\n",
    "filas = table.find_all(\"tr\")[1:]\n",
    "\n",
    "for fila in filas:\n",
    "    aux1 = fila.find(\"td\") # primera celda td en fila\n",
    "    aux2 = aux1.find_next_sibling(\"td\") # la segunda\n",
    "    aux3 = aux2.find_next_sibling(\"td\") # la tercera\n",
    "    director = aux3.text\n",
    "    \n",
    "    if aux3.find(\"a\") is None: # el link (href) está dentro de <a ...> y si\n",
    "        # no tiene <a ...> no tiene sentido extraer el link\n",
    "        continue # pasamos a la siguiente itaración del bucle\n",
    "    \n",
    "    link = aux3.find(\"a\").get(\"href\")\n",
    "    link = completar_link(link, url)\n",
    "    \n",
    "    if director not in directores.keys():\n",
    "        directores[director] = link\n",
    "\n",
    "directores"
   ]
  },
  {
   "cell_type": "code",
   "execution_count": 18,
   "metadata": {},
   "outputs": [
    {
     "data": {
      "text/plain": [
       "dict_keys(['Tim Van Patten', 'Brian Kirk', 'Daniel Minahan', 'Alan Taylor'])"
      ]
     },
     "execution_count": 18,
     "metadata": {},
     "output_type": "execute_result"
    }
   ],
   "source": [
    "directores.keys()"
   ]
  },
  {
   "cell_type": "markdown",
   "metadata": {},
   "source": [
    "**Nota: hay que completar los links!**\n",
    "\n",
    "Se continúa la solución en notebook 02-juego_de_tronos_SOLUCION_CON_LIBRERIA.ipynb donde además se usa **mi_libreria.py**"
   ]
  },
  {
   "cell_type": "markdown",
   "metadata": {},
   "source": [
    "Ahora saca la lista de todos los directores que ha habido en cualquier \"episode\" de Game of Thrones:"
   ]
  },
  {
   "cell_type": "code",
   "execution_count": null,
   "metadata": {},
   "outputs": [],
   "source": []
  },
  {
   "cell_type": "markdown",
   "metadata": {},
   "source": [
    "Ahora saca por pantalla el título y link de las 5 primeras citas con clase \"citation\" de la sección \"Referencias\":"
   ]
  },
  {
   "cell_type": "code",
   "execution_count": null,
   "metadata": {},
   "outputs": [],
   "source": []
  }
 ],
 "metadata": {
  "kernelspec": {
   "display_name": "Python 3",
   "language": "python",
   "name": "python3"
  },
  "language_info": {
   "codemirror_mode": {
    "name": "ipython",
    "version": 3
   },
   "file_extension": ".py",
   "mimetype": "text/x-python",
   "name": "python",
   "nbconvert_exporter": "python",
   "pygments_lexer": "ipython3",
   "version": "3.7.4"
  }
 },
 "nbformat": 4,
 "nbformat_minor": 2
}
